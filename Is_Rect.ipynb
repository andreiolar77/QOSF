{
  "nbformat": 4,
  "nbformat_minor": 0,
  "metadata": {
    "colab": {
      "provenance": []
    },
    "kernelspec": {
      "name": "python3",
      "display_name": "Python 3"
    },
    "language_info": {
      "name": "python"
    }
  },
  "cells": [
    {
      "cell_type": "markdown",
      "source": [
        "Import relevant"
      ],
      "metadata": {
        "id": "n9vSbsf4G7PP"
      }
    },
    {
      "cell_type": "markdown",
      "source": [
        "Link: https://colab.research.google.com/drive/1H4ifh5RXESMoVWBgjtCOvT-pBIbJRPaz?usp=sharing"
      ],
      "metadata": {
        "id": "B1Pd1Vf9IJHs"
      }
    },
    {
      "cell_type": "code",
      "execution_count": null,
      "metadata": {
        "id": "9-sT1D0sG6mJ"
      },
      "outputs": [],
      "source": [
        "#Import relevant\n",
        "import qiskit as qc\n",
        "from qiskit import QuantumRegister, ClassicalRegister, QuantumCircuit, Aer\n",
        "from qiskit.quantum_info import Statevector\n",
        "import numpy as np"
      ]
    },
    {
      "cell_type": "markdown",
      "source": [
        "Now for the function:"
      ],
      "metadata": {
        "id": "s_M0Dtq7HhlK"
      }
    },
    {
      "cell_type": "code",
      "source": [
        "def is_rectangle(A: int, B: int, C: int, D: int) -> int:\n",
        "    #Define relevant quantum circuits and registers.\n",
        "    #We want to cover each of the possible configurations for the sides, i.e. AB, AC, AD, BC, BD and CD\n",
        "    #This requires 6 Circuits.\n",
        "    qr = QuantumRegister(3)\n",
        "    cr = ClassicalRegister(2)\n",
        "    \n",
        "    qcab = QuantumCircuit(qr, cr)\n",
        "    qcac = QuantumCircuit(qr, cr)\n",
        "    qcad = QuantumCircuit(qr, cr)\n",
        "    qcbc = QuantumCircuit(qr, cr)\n",
        "    qcbd = QuantumCircuit(qr, cr)\n",
        "    qccd = QuantumCircuit(qr, cr)\n",
        "    \n",
        "    #Define each of the first qubit states as |0>\n",
        "    #Why we are doing this will be apparent in the swap circuit steps\n",
        "    qcab.x(0)\n",
        "    qcac.x(0)\n",
        "    qcad.x(0)\n",
        "    qcbc.x(0)\n",
        "    qcbd.x(0)\n",
        "    qccd.x(0)\n",
        "    \n",
        "    sides = [A,B,C,D] #A,B,C,D\n",
        "    \n",
        "    #We want these A, B, C, D values to be normalized to use the arcsin function.\n",
        "    if sides[0] == sides[1] == sides[2] == sides[3] :\n",
        "        normalizedsides=[1,1,1,1]\n",
        "    else:\n",
        "        normalizedsides = (sides-np.min(sides))/(np.max(sides)-np.min(sides))\n",
        "    #Now we have a normalized list of relative values between [0,1]\n",
        "    \n",
        "    #Now we assign this normalized list to representative qubit representations.\n",
        "    #This is done for all the circuits, leaving the first qubit as the |0> state.\n",
        "    #AB\n",
        "    qcab.ry(2*np.arcsin(normalizedsides[0]),1)\n",
        "    qcab.ry(2*np.arcsin(normalizedsides[1]),2)\n",
        "    #AC\n",
        "    qcac.ry(2*np.arcsin(normalizedsides[0]),1)\n",
        "    qcac.ry(2*np.arcsin(normalizedsides[2]),2)\n",
        "    #AD\n",
        "    qcad.ry(2*np.arcsin(normalizedsides[0]),1)\n",
        "    qcad.ry(2*np.arcsin(normalizedsides[3]),2)\n",
        "    #BC\n",
        "    qcbc.ry(2*np.arcsin(normalizedsides[1]),1)\n",
        "    qcbc.ry(2*np.arcsin(normalizedsides[2]),2)\n",
        "    #BD\n",
        "    qcbd.ry(2*np.arcsin(normalizedsides[1]),1)\n",
        "    qcbd.ry(2*np.arcsin(normalizedsides[3]),2)\n",
        "    #CD\n",
        "    qccd.ry(2*np.arcsin(normalizedsides[2]),1)\n",
        "    qccd.ry(2*np.arcsin(normalizedsides[3]),2)\n",
        "    \n",
        "    #Perform needed swaps\n",
        "    # The swap circuit is quite simple:\n",
        "    #\n",
        "    # |0> --- H --- o --- H --- Measure\n",
        "    #               |\n",
        "    # a1  --------- x ---------\n",
        "    #               |\n",
        "    # a2  ----------x ---------\n",
        "    #AB swap\n",
        "    qcab.h(0)\n",
        "    qcab.cswap(0, 1, 2)\n",
        "    qcab.h(0)\n",
        "    #AC swap\n",
        "    qcac.h(0)\n",
        "    qcac.cswap(0, 1, 2)\n",
        "    qcac.h(0)\n",
        "    #AD swap\n",
        "    qcad.h(0)\n",
        "    qcad.cswap(0, 1, 2)\n",
        "    qcad.h(0)\n",
        "    #BC swap\n",
        "    qcbc.h(0)\n",
        "    qcbc.cswap(0, 1, 2)\n",
        "    qcbc.h(0)\n",
        "    #BD swap\n",
        "    qcbd.h(0)\n",
        "    qcbd.cswap(0, 1, 2)\n",
        "    qcbd.h(0)\n",
        "    #CD swap\n",
        "    qccd.h(0)\n",
        "    qccd.cswap(0, 1, 2)\n",
        "    qccd.h(0)\n",
        "\n",
        "    #Now we convert to a statevector-we want to have probabilities \n",
        "    #For this we convert our circuits to relative amplitude values\n",
        "    #We take these relative amplitude values for our probability.\n",
        "    psiab=Statevector.from_instruction(qcab)\n",
        "    psiac=Statevector.from_instruction(qcac)\n",
        "    psiad=Statevector.from_instruction(qcad)\n",
        "    psibc=Statevector.from_instruction(qcbc)\n",
        "    psibd=Statevector.from_instruction(qcbd)\n",
        "    psicd=Statevector.from_instruction(qccd)\n",
        "    \n",
        "    #Take probabilities\n",
        "    psiabp=psiab.probabilities()\n",
        "    psiacp=psiac.probabilities()\n",
        "    psiadp=psiad.probabilities()\n",
        "    psibcp=psibc.probabilities()\n",
        "    psibdp=psibd.probabilities()\n",
        "    psicdp=psicd.probabilities()\n",
        "    \n",
        "\n",
        "    #The swap circuit returns the state |0> with 1.0 probability if the two state inputs are equal.\n",
        "    #Therefore, we now want to iterate through all 8 entries (2^3 possible values for the qubits).\n",
        "    #If we see a one value in any array, add one to counter.\n",
        "    #Iff counter == 2, then we have a valid rectangle.\n",
        "    \n",
        "    rect=0\n",
        "    \n",
        "    maxval=[]\n",
        "    \n",
        "    maxval.append(np.max(psiacp))\n",
        "    maxval.append(np.max(psiadp))\n",
        "    maxval.append(np.max(psibcp))\n",
        "    maxval.append(np.max(psibdp))\n",
        "    maxval.append(np.max(psicdp))\n",
        "    maxval.append(np.max(psiabp))\n",
        "    \n",
        "    for element in maxval:\n",
        "        if element >= 0.99995:\n",
        "            rect +=1\n",
        "        \n",
        "    \n",
        "    #now if rect == 2, return 1.\n",
        "    #There are rounding errors associated with this schema.\n",
        "    #Noticably, the first AB element typically returns a value\n",
        "    #very very close to 1, but not 1, around 0.9999999998.\n",
        "    #This is why we needed an element >=0.99995 clause above.\n",
        "    #This means that the code does break down when elements are very close to each other\n",
        "    #take is_rectangle(1,1,5,5.00001). This would likely return 1.\n",
        "    if (rect == 2):\n",
        "        return 1\n",
        "    else:\n",
        "        return 0\n",
        "    \n",
        "            "
      ],
      "metadata": {
        "id": "TtGHD24PHjqU"
      },
      "execution_count": null,
      "outputs": []
    }
  ]
}